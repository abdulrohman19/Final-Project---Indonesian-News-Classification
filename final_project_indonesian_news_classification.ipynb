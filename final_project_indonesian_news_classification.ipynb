{
  "metadata": {
    "kernelspec": {
      "language": "python",
      "display_name": "Python 3",
      "name": "python3"
    },
    "language_info": {
      "name": "python",
      "version": "3.7.12",
      "mimetype": "text/x-python",
      "codemirror_mode": {
        "name": "ipython",
        "version": 3
      },
      "pygments_lexer": "ipython3",
      "nbconvert_exporter": "python",
      "file_extension": ".py"
    },
    "colab": {
      "name": "final-project-indonesian-news-classification.ipynb",
      "provenance": [],
      "collapsed_sections": []
    }
  },
  "nbformat_minor": 0,
  "nbformat": 4,
  "cells": [
    {
      "cell_type": "code",
      "source": [
        "# This Python 3 environment comes with many helpful analytics libraries installed\n",
        "# It is defined by the kaggle/python Docker image: https://github.com/kaggle/docker-python\n",
        "# For example, here's several helpful packages to load\n",
        "\n",
        "import numpy as np # linear algebra\n",
        "import pandas as pd # data processing, CSV file I/O (e.g. pd.read_csv)\n",
        "\n",
        "# Input data files are available in the read-only \"../input/\" directory\n",
        "# For example, running this (by clicking run or pressing Shift+Enter) will list all files under the input directory\n",
        "\n",
        "import os\n",
        "for dirname, _, filenames in os.walk('/kaggle/input'):\n",
        "    for filename in filenames:\n",
        "        print(os.path.join(dirname, filename))\n",
        "\n",
        "# You can write up to 20GB to the current directory (/kaggle/working/) that gets preserved as output when you create a version using \"Save & Run All\" \n",
        "# You can also write temporary files to /kaggle/temp/, but they won't be saved outside of the current session"
      ],
      "metadata": {
        "_uuid": "8f2839f25d086af736a60e9eeb907d3b93b6e0e5",
        "_cell_guid": "b1076dfc-b9ad-4769-8c92-a6c4dae69d19",
        "execution": {
          "iopub.status.busy": "2022-03-13T15:43:17.579073Z",
          "iopub.execute_input": "2022-03-13T15:43:17.579404Z",
          "iopub.status.idle": "2022-03-13T15:43:17.600594Z",
          "shell.execute_reply.started": "2022-03-13T15:43:17.579373Z",
          "shell.execute_reply": "2022-03-13T15:43:17.599881Z"
        },
        "trusted": true,
        "id": "JFAHTnKKU_8W"
      },
      "execution_count": 3,
      "outputs": []
    },
    {
      "cell_type": "markdown",
      "source": [
        "**LSTM**"
      ],
      "metadata": {
        "id": "7RSVoaifU_8a"
      }
    },
    {
      "cell_type": "code",
      "source": [
        "import pandas as pd\n",
        "data = pd.read_csv(\"sample_data/news.csv\")"
      ],
      "metadata": {
        "execution": {
          "iopub.status.busy": "2022-03-13T15:43:17.602215Z",
          "iopub.execute_input": "2022-03-13T15:43:17.602622Z",
          "iopub.status.idle": "2022-03-13T15:43:17.752991Z",
          "shell.execute_reply.started": "2022-03-13T15:43:17.602586Z",
          "shell.execute_reply": "2022-03-13T15:43:17.752223Z"
        },
        "trusted": true,
        "id": "Jtf_HGrnU_8d"
      },
      "execution_count": 4,
      "outputs": []
    },
    {
      "cell_type": "code",
      "source": [
        "data.dropna(axis=0, subset=['Article Content','Kategori'], inplace=True)\n",
        "data.head()"
      ],
      "metadata": {
        "execution": {
          "iopub.status.busy": "2022-03-13T15:43:17.754100Z",
          "iopub.execute_input": "2022-03-13T15:43:17.754366Z",
          "iopub.status.idle": "2022-03-13T15:43:17.779522Z",
          "shell.execute_reply.started": "2022-03-13T15:43:17.754330Z",
          "shell.execute_reply": "2022-03-13T15:43:17.778726Z"
        },
        "trusted": true,
        "colab": {
          "base_uri": "https://localhost:8080/",
          "height": 206
        },
        "id": "JRalR9WoU_8f",
        "outputId": "68b8c394-a310-47c9-c121-0742c682aec4"
      },
      "execution_count": 5,
      "outputs": [
        {
          "output_type": "execute_result",
          "data": {
            "text/plain": [
              "   Nomor                                      Article Title  \\\n",
              "0      1  7 Hobi yang Bisa Datangkan Cuan di 2022, Ada H...   \n",
              "1      2  Perbanyak Ahli Gunung Api, ITN Yogyakarta Buka...   \n",
              "2      3  PTM Terbatas 2022 di Jakarta, Ini Aturan Kegia...   \n",
              "3      4  Mengapa Perlu Menjaga Kelestarian Tanaman Baka...   \n",
              "4      5  Cara Membuat Surat Lamaran Kerja yang Sempurna...   \n",
              "\n",
              "                                        Article Link  \\\n",
              "0  https://www.detik.com/edu/edutainment/d-588006...   \n",
              "1  https://www.detik.com/edu/perguruan-tinggi/d-5...   \n",
              "2  https://www.detik.com/edu/sekolah/d-5880075/pt...   \n",
              "3  https://www.detik.com/edu/detikpedia/d-5879161...   \n",
              "4  https://www.detik.com/edu/edutainment/d-587992...   \n",
              "\n",
              "                                     Article Content Kategori  \n",
              "0  Meski banyak orang menganggap hobi hanya sebat...      EDU  \n",
              "1  Institut Teknologi Nasional (ITN) Yogyakarta m...      EDU  \n",
              "2  Pemerintah Provinsi DKI Jakarta melalui Kepala...      EDU  \n",
              "3  Tanaman bakau adalah salah satu ekosistem yang...      EDU  \n",
              "4  Membuat Curriculum Vitae (CV) dan surat lamara...      EDU  "
            ],
            "text/html": [
              "\n",
              "  <div id=\"df-45a74664-74bc-40bb-803d-bb74c4f3cb2f\">\n",
              "    <div class=\"colab-df-container\">\n",
              "      <div>\n",
              "<style scoped>\n",
              "    .dataframe tbody tr th:only-of-type {\n",
              "        vertical-align: middle;\n",
              "    }\n",
              "\n",
              "    .dataframe tbody tr th {\n",
              "        vertical-align: top;\n",
              "    }\n",
              "\n",
              "    .dataframe thead th {\n",
              "        text-align: right;\n",
              "    }\n",
              "</style>\n",
              "<table border=\"1\" class=\"dataframe\">\n",
              "  <thead>\n",
              "    <tr style=\"text-align: right;\">\n",
              "      <th></th>\n",
              "      <th>Nomor</th>\n",
              "      <th>Article Title</th>\n",
              "      <th>Article Link</th>\n",
              "      <th>Article Content</th>\n",
              "      <th>Kategori</th>\n",
              "    </tr>\n",
              "  </thead>\n",
              "  <tbody>\n",
              "    <tr>\n",
              "      <th>0</th>\n",
              "      <td>1</td>\n",
              "      <td>7 Hobi yang Bisa Datangkan Cuan di 2022, Ada H...</td>\n",
              "      <td>https://www.detik.com/edu/edutainment/d-588006...</td>\n",
              "      <td>Meski banyak orang menganggap hobi hanya sebat...</td>\n",
              "      <td>EDU</td>\n",
              "    </tr>\n",
              "    <tr>\n",
              "      <th>1</th>\n",
              "      <td>2</td>\n",
              "      <td>Perbanyak Ahli Gunung Api, ITN Yogyakarta Buka...</td>\n",
              "      <td>https://www.detik.com/edu/perguruan-tinggi/d-5...</td>\n",
              "      <td>Institut Teknologi Nasional (ITN) Yogyakarta m...</td>\n",
              "      <td>EDU</td>\n",
              "    </tr>\n",
              "    <tr>\n",
              "      <th>2</th>\n",
              "      <td>3</td>\n",
              "      <td>PTM Terbatas 2022 di Jakarta, Ini Aturan Kegia...</td>\n",
              "      <td>https://www.detik.com/edu/sekolah/d-5880075/pt...</td>\n",
              "      <td>Pemerintah Provinsi DKI Jakarta melalui Kepala...</td>\n",
              "      <td>EDU</td>\n",
              "    </tr>\n",
              "    <tr>\n",
              "      <th>3</th>\n",
              "      <td>4</td>\n",
              "      <td>Mengapa Perlu Menjaga Kelestarian Tanaman Baka...</td>\n",
              "      <td>https://www.detik.com/edu/detikpedia/d-5879161...</td>\n",
              "      <td>Tanaman bakau adalah salah satu ekosistem yang...</td>\n",
              "      <td>EDU</td>\n",
              "    </tr>\n",
              "    <tr>\n",
              "      <th>4</th>\n",
              "      <td>5</td>\n",
              "      <td>Cara Membuat Surat Lamaran Kerja yang Sempurna...</td>\n",
              "      <td>https://www.detik.com/edu/edutainment/d-587992...</td>\n",
              "      <td>Membuat Curriculum Vitae (CV) dan surat lamara...</td>\n",
              "      <td>EDU</td>\n",
              "    </tr>\n",
              "  </tbody>\n",
              "</table>\n",
              "</div>\n",
              "      <button class=\"colab-df-convert\" onclick=\"convertToInteractive('df-45a74664-74bc-40bb-803d-bb74c4f3cb2f')\"\n",
              "              title=\"Convert this dataframe to an interactive table.\"\n",
              "              style=\"display:none;\">\n",
              "        \n",
              "  <svg xmlns=\"http://www.w3.org/2000/svg\" height=\"24px\"viewBox=\"0 0 24 24\"\n",
              "       width=\"24px\">\n",
              "    <path d=\"M0 0h24v24H0V0z\" fill=\"none\"/>\n",
              "    <path d=\"M18.56 5.44l.94 2.06.94-2.06 2.06-.94-2.06-.94-.94-2.06-.94 2.06-2.06.94zm-11 1L8.5 8.5l.94-2.06 2.06-.94-2.06-.94L8.5 2.5l-.94 2.06-2.06.94zm10 10l.94 2.06.94-2.06 2.06-.94-2.06-.94-.94-2.06-.94 2.06-2.06.94z\"/><path d=\"M17.41 7.96l-1.37-1.37c-.4-.4-.92-.59-1.43-.59-.52 0-1.04.2-1.43.59L10.3 9.45l-7.72 7.72c-.78.78-.78 2.05 0 2.83L4 21.41c.39.39.9.59 1.41.59.51 0 1.02-.2 1.41-.59l7.78-7.78 2.81-2.81c.8-.78.8-2.07 0-2.86zM5.41 20L4 18.59l7.72-7.72 1.47 1.35L5.41 20z\"/>\n",
              "  </svg>\n",
              "      </button>\n",
              "      \n",
              "  <style>\n",
              "    .colab-df-container {\n",
              "      display:flex;\n",
              "      flex-wrap:wrap;\n",
              "      gap: 12px;\n",
              "    }\n",
              "\n",
              "    .colab-df-convert {\n",
              "      background-color: #E8F0FE;\n",
              "      border: none;\n",
              "      border-radius: 50%;\n",
              "      cursor: pointer;\n",
              "      display: none;\n",
              "      fill: #1967D2;\n",
              "      height: 32px;\n",
              "      padding: 0 0 0 0;\n",
              "      width: 32px;\n",
              "    }\n",
              "\n",
              "    .colab-df-convert:hover {\n",
              "      background-color: #E2EBFA;\n",
              "      box-shadow: 0px 1px 2px rgba(60, 64, 67, 0.3), 0px 1px 3px 1px rgba(60, 64, 67, 0.15);\n",
              "      fill: #174EA6;\n",
              "    }\n",
              "\n",
              "    [theme=dark] .colab-df-convert {\n",
              "      background-color: #3B4455;\n",
              "      fill: #D2E3FC;\n",
              "    }\n",
              "\n",
              "    [theme=dark] .colab-df-convert:hover {\n",
              "      background-color: #434B5C;\n",
              "      box-shadow: 0px 1px 3px 1px rgba(0, 0, 0, 0.15);\n",
              "      filter: drop-shadow(0px 1px 2px rgba(0, 0, 0, 0.3));\n",
              "      fill: #FFFFFF;\n",
              "    }\n",
              "  </style>\n",
              "\n",
              "      <script>\n",
              "        const buttonEl =\n",
              "          document.querySelector('#df-45a74664-74bc-40bb-803d-bb74c4f3cb2f button.colab-df-convert');\n",
              "        buttonEl.style.display =\n",
              "          google.colab.kernel.accessAllowed ? 'block' : 'none';\n",
              "\n",
              "        async function convertToInteractive(key) {\n",
              "          const element = document.querySelector('#df-45a74664-74bc-40bb-803d-bb74c4f3cb2f');\n",
              "          const dataTable =\n",
              "            await google.colab.kernel.invokeFunction('convertToInteractive',\n",
              "                                                     [key], {});\n",
              "          if (!dataTable) return;\n",
              "\n",
              "          const docLinkHtml = 'Like what you see? Visit the ' +\n",
              "            '<a target=\"_blank\" href=https://colab.research.google.com/notebooks/data_table.ipynb>data table notebook</a>'\n",
              "            + ' to learn more about interactive tables.';\n",
              "          element.innerHTML = '';\n",
              "          dataTable['output_type'] = 'display_data';\n",
              "          await google.colab.output.renderOutput(dataTable, element);\n",
              "          const docLink = document.createElement('div');\n",
              "          docLink.innerHTML = docLinkHtml;\n",
              "          element.appendChild(docLink);\n",
              "        }\n",
              "      </script>\n",
              "    </div>\n",
              "  </div>\n",
              "  "
            ]
          },
          "metadata": {},
          "execution_count": 5
        }
      ]
    },
    {
      "cell_type": "code",
      "source": [
        "data[130:140]"
      ],
      "metadata": {
        "execution": {
          "iopub.status.busy": "2022-03-13T15:43:17.781671Z",
          "iopub.execute_input": "2022-03-13T15:43:17.781915Z",
          "iopub.status.idle": "2022-03-13T15:43:17.792784Z",
          "shell.execute_reply.started": "2022-03-13T15:43:17.781882Z",
          "shell.execute_reply": "2022-03-13T15:43:17.792110Z"
        },
        "trusted": true,
        "colab": {
          "base_uri": "https://localhost:8080/",
          "height": 362
        },
        "id": "c5Ha_17KU_8g",
        "outputId": "ce99cd19-a403-488c-eb87-e75054c9262c"
      },
      "execution_count": 6,
      "outputs": [
        {
          "output_type": "execute_result",
          "data": {
            "text/plain": [
              "     Nomor                                      Article Title  \\\n",
              "130    131  Surat Az Zukhruf, Firman Allah SWT yang Mencer...   \n",
              "131    132  Doa Setelah Membaca Surat Al Waqiah dan Waktu ...   \n",
              "132    133  MUI Sudah 46 Tahun Berdiri, Seperti Apa Sejara...   \n",
              "133    134  Ortu di Jakarta yang Cemas PTM 100 % Diberi Ke...   \n",
              "134    135  Profil Kazakhstan, Negara Pecahan Uni Soviet d...   \n",
              "135    136  Sultan Izinkan Sekolah-Kampus Gelar PTM 100 Pe...   \n",
              "136    137  Ortu Was-was Anak Harus PTM 100 Persen? Psikol...   \n",
              "137    138  5 Contoh Teks Berita Dilengkapi Penjelasan dan...   \n",
              "138    139  Ini Daftar Pekerjaan yang Bakal Digantikan Rob...   \n",
              "139    140         Mengenal Serat, Bahan Baku Benang dan Kain   \n",
              "\n",
              "                                          Article Link  \\\n",
              "130  https://www.detik.com/edu/detikpedia/d-5883699...   \n",
              "131  https://www.detik.com/edu/detikpedia/d-5883671...   \n",
              "132  https://www.detik.com/edu/detikpedia/d-5887336...   \n",
              "133  https://www.detik.com/edu/sekolah/d-5887318/or...   \n",
              "134  https://www.detik.com/edu/detikpedia/d-5887241...   \n",
              "135  https://www.detik.com/edu/perguruan-tinggi/d-5...   \n",
              "136  https://www.detik.com/edu/sekolah/d-5886908/or...   \n",
              "137  https://www.detik.com/edu/detikpedia/d-5886893...   \n",
              "138  https://www.detik.com/edu/detikpedia/d-5886814...   \n",
              "139  https://www.detik.com/edu/detikpedia/d-5886805...   \n",
              "\n",
              "                                       Article Content Kategori  \n",
              "130  \"Salah satu faedah surat Az Zukhruf adalah pen...      EDU  \n",
              "131  Bacaan doa setelah membaca surat Al Waqiah ini...      EDU  \n",
              "132  Saat ini, Majelis Ulama Indonesia dipimpin ole...      EDU  \n",
              "133  Pembelajaran tatap muka (PTM) 100 persen sudah...      EDU  \n",
              "134  Kazakhstan adalah negara pecahan Uni Soviet da...      EDU  \n",
              "135  Gubernur Daerah Istimewa Yogyakarta Sri Sultan...      EDU  \n",
              "136  Kebijakan itu menuai pro dan kontra. Orang tua...      EDU  \n",
              "137  Kejadian atau peristiwa yang sedang dan telah ...      EDU  \n",
              "138  Beberapa posisi pekerjaan saat ini sudah bisa ...      EDU  \n",
              "139  Mengutip dari Sumber Belajar Kemdikbud, sifat ...      EDU  "
            ],
            "text/html": [
              "\n",
              "  <div id=\"df-3ac914d9-165b-482a-9775-a68f0ee77898\">\n",
              "    <div class=\"colab-df-container\">\n",
              "      <div>\n",
              "<style scoped>\n",
              "    .dataframe tbody tr th:only-of-type {\n",
              "        vertical-align: middle;\n",
              "    }\n",
              "\n",
              "    .dataframe tbody tr th {\n",
              "        vertical-align: top;\n",
              "    }\n",
              "\n",
              "    .dataframe thead th {\n",
              "        text-align: right;\n",
              "    }\n",
              "</style>\n",
              "<table border=\"1\" class=\"dataframe\">\n",
              "  <thead>\n",
              "    <tr style=\"text-align: right;\">\n",
              "      <th></th>\n",
              "      <th>Nomor</th>\n",
              "      <th>Article Title</th>\n",
              "      <th>Article Link</th>\n",
              "      <th>Article Content</th>\n",
              "      <th>Kategori</th>\n",
              "    </tr>\n",
              "  </thead>\n",
              "  <tbody>\n",
              "    <tr>\n",
              "      <th>130</th>\n",
              "      <td>131</td>\n",
              "      <td>Surat Az Zukhruf, Firman Allah SWT yang Mencer...</td>\n",
              "      <td>https://www.detik.com/edu/detikpedia/d-5883699...</td>\n",
              "      <td>\"Salah satu faedah surat Az Zukhruf adalah pen...</td>\n",
              "      <td>EDU</td>\n",
              "    </tr>\n",
              "    <tr>\n",
              "      <th>131</th>\n",
              "      <td>132</td>\n",
              "      <td>Doa Setelah Membaca Surat Al Waqiah dan Waktu ...</td>\n",
              "      <td>https://www.detik.com/edu/detikpedia/d-5883671...</td>\n",
              "      <td>Bacaan doa setelah membaca surat Al Waqiah ini...</td>\n",
              "      <td>EDU</td>\n",
              "    </tr>\n",
              "    <tr>\n",
              "      <th>132</th>\n",
              "      <td>133</td>\n",
              "      <td>MUI Sudah 46 Tahun Berdiri, Seperti Apa Sejara...</td>\n",
              "      <td>https://www.detik.com/edu/detikpedia/d-5887336...</td>\n",
              "      <td>Saat ini, Majelis Ulama Indonesia dipimpin ole...</td>\n",
              "      <td>EDU</td>\n",
              "    </tr>\n",
              "    <tr>\n",
              "      <th>133</th>\n",
              "      <td>134</td>\n",
              "      <td>Ortu di Jakarta yang Cemas PTM 100 % Diberi Ke...</td>\n",
              "      <td>https://www.detik.com/edu/sekolah/d-5887318/or...</td>\n",
              "      <td>Pembelajaran tatap muka (PTM) 100 persen sudah...</td>\n",
              "      <td>EDU</td>\n",
              "    </tr>\n",
              "    <tr>\n",
              "      <th>134</th>\n",
              "      <td>135</td>\n",
              "      <td>Profil Kazakhstan, Negara Pecahan Uni Soviet d...</td>\n",
              "      <td>https://www.detik.com/edu/detikpedia/d-5887241...</td>\n",
              "      <td>Kazakhstan adalah negara pecahan Uni Soviet da...</td>\n",
              "      <td>EDU</td>\n",
              "    </tr>\n",
              "    <tr>\n",
              "      <th>135</th>\n",
              "      <td>136</td>\n",
              "      <td>Sultan Izinkan Sekolah-Kampus Gelar PTM 100 Pe...</td>\n",
              "      <td>https://www.detik.com/edu/perguruan-tinggi/d-5...</td>\n",
              "      <td>Gubernur Daerah Istimewa Yogyakarta Sri Sultan...</td>\n",
              "      <td>EDU</td>\n",
              "    </tr>\n",
              "    <tr>\n",
              "      <th>136</th>\n",
              "      <td>137</td>\n",
              "      <td>Ortu Was-was Anak Harus PTM 100 Persen? Psikol...</td>\n",
              "      <td>https://www.detik.com/edu/sekolah/d-5886908/or...</td>\n",
              "      <td>Kebijakan itu menuai pro dan kontra. Orang tua...</td>\n",
              "      <td>EDU</td>\n",
              "    </tr>\n",
              "    <tr>\n",
              "      <th>137</th>\n",
              "      <td>138</td>\n",
              "      <td>5 Contoh Teks Berita Dilengkapi Penjelasan dan...</td>\n",
              "      <td>https://www.detik.com/edu/detikpedia/d-5886893...</td>\n",
              "      <td>Kejadian atau peristiwa yang sedang dan telah ...</td>\n",
              "      <td>EDU</td>\n",
              "    </tr>\n",
              "    <tr>\n",
              "      <th>138</th>\n",
              "      <td>139</td>\n",
              "      <td>Ini Daftar Pekerjaan yang Bakal Digantikan Rob...</td>\n",
              "      <td>https://www.detik.com/edu/detikpedia/d-5886814...</td>\n",
              "      <td>Beberapa posisi pekerjaan saat ini sudah bisa ...</td>\n",
              "      <td>EDU</td>\n",
              "    </tr>\n",
              "    <tr>\n",
              "      <th>139</th>\n",
              "      <td>140</td>\n",
              "      <td>Mengenal Serat, Bahan Baku Benang dan Kain</td>\n",
              "      <td>https://www.detik.com/edu/detikpedia/d-5886805...</td>\n",
              "      <td>Mengutip dari Sumber Belajar Kemdikbud, sifat ...</td>\n",
              "      <td>EDU</td>\n",
              "    </tr>\n",
              "  </tbody>\n",
              "</table>\n",
              "</div>\n",
              "      <button class=\"colab-df-convert\" onclick=\"convertToInteractive('df-3ac914d9-165b-482a-9775-a68f0ee77898')\"\n",
              "              title=\"Convert this dataframe to an interactive table.\"\n",
              "              style=\"display:none;\">\n",
              "        \n",
              "  <svg xmlns=\"http://www.w3.org/2000/svg\" height=\"24px\"viewBox=\"0 0 24 24\"\n",
              "       width=\"24px\">\n",
              "    <path d=\"M0 0h24v24H0V0z\" fill=\"none\"/>\n",
              "    <path d=\"M18.56 5.44l.94 2.06.94-2.06 2.06-.94-2.06-.94-.94-2.06-.94 2.06-2.06.94zm-11 1L8.5 8.5l.94-2.06 2.06-.94-2.06-.94L8.5 2.5l-.94 2.06-2.06.94zm10 10l.94 2.06.94-2.06 2.06-.94-2.06-.94-.94-2.06-.94 2.06-2.06.94z\"/><path d=\"M17.41 7.96l-1.37-1.37c-.4-.4-.92-.59-1.43-.59-.52 0-1.04.2-1.43.59L10.3 9.45l-7.72 7.72c-.78.78-.78 2.05 0 2.83L4 21.41c.39.39.9.59 1.41.59.51 0 1.02-.2 1.41-.59l7.78-7.78 2.81-2.81c.8-.78.8-2.07 0-2.86zM5.41 20L4 18.59l7.72-7.72 1.47 1.35L5.41 20z\"/>\n",
              "  </svg>\n",
              "      </button>\n",
              "      \n",
              "  <style>\n",
              "    .colab-df-container {\n",
              "      display:flex;\n",
              "      flex-wrap:wrap;\n",
              "      gap: 12px;\n",
              "    }\n",
              "\n",
              "    .colab-df-convert {\n",
              "      background-color: #E8F0FE;\n",
              "      border: none;\n",
              "      border-radius: 50%;\n",
              "      cursor: pointer;\n",
              "      display: none;\n",
              "      fill: #1967D2;\n",
              "      height: 32px;\n",
              "      padding: 0 0 0 0;\n",
              "      width: 32px;\n",
              "    }\n",
              "\n",
              "    .colab-df-convert:hover {\n",
              "      background-color: #E2EBFA;\n",
              "      box-shadow: 0px 1px 2px rgba(60, 64, 67, 0.3), 0px 1px 3px 1px rgba(60, 64, 67, 0.15);\n",
              "      fill: #174EA6;\n",
              "    }\n",
              "\n",
              "    [theme=dark] .colab-df-convert {\n",
              "      background-color: #3B4455;\n",
              "      fill: #D2E3FC;\n",
              "    }\n",
              "\n",
              "    [theme=dark] .colab-df-convert:hover {\n",
              "      background-color: #434B5C;\n",
              "      box-shadow: 0px 1px 3px 1px rgba(0, 0, 0, 0.15);\n",
              "      filter: drop-shadow(0px 1px 2px rgba(0, 0, 0, 0.3));\n",
              "      fill: #FFFFFF;\n",
              "    }\n",
              "  </style>\n",
              "\n",
              "      <script>\n",
              "        const buttonEl =\n",
              "          document.querySelector('#df-3ac914d9-165b-482a-9775-a68f0ee77898 button.colab-df-convert');\n",
              "        buttonEl.style.display =\n",
              "          google.colab.kernel.accessAllowed ? 'block' : 'none';\n",
              "\n",
              "        async function convertToInteractive(key) {\n",
              "          const element = document.querySelector('#df-3ac914d9-165b-482a-9775-a68f0ee77898');\n",
              "          const dataTable =\n",
              "            await google.colab.kernel.invokeFunction('convertToInteractive',\n",
              "                                                     [key], {});\n",
              "          if (!dataTable) return;\n",
              "\n",
              "          const docLinkHtml = 'Like what you see? Visit the ' +\n",
              "            '<a target=\"_blank\" href=https://colab.research.google.com/notebooks/data_table.ipynb>data table notebook</a>'\n",
              "            + ' to learn more about interactive tables.';\n",
              "          element.innerHTML = '';\n",
              "          dataTable['output_type'] = 'display_data';\n",
              "          await google.colab.output.renderOutput(dataTable, element);\n",
              "          const docLink = document.createElement('div');\n",
              "          docLink.innerHTML = docLinkHtml;\n",
              "          element.appendChild(docLink);\n",
              "        }\n",
              "      </script>\n",
              "    </div>\n",
              "  </div>\n",
              "  "
            ]
          },
          "metadata": {},
          "execution_count": 6
        }
      ]
    },
    {
      "cell_type": "code",
      "source": [
        "from sklearn.model_selection import train_test_split\n",
        "from sklearn.feature_extraction.text import CountVectorizer\n",
        "\n",
        "vectorizer = CountVectorizer()\n",
        "\n",
        "X_train,X_test, y_train, y_test = train_test_split(data['Article Content'],data['Kategori'],train_size=0.8,random_state=42)\n",
        "X_train = vectorizer.fit_transform(X_train)\n",
        "X_test = vectorizer.transform(X_test)"
      ],
      "metadata": {
        "execution": {
          "iopub.status.busy": "2022-03-13T15:43:17.794297Z",
          "iopub.execute_input": "2022-03-13T15:43:17.794850Z",
          "iopub.status.idle": "2022-03-13T15:43:19.640300Z",
          "shell.execute_reply.started": "2022-03-13T15:43:17.794756Z",
          "shell.execute_reply": "2022-03-13T15:43:19.639543Z"
        },
        "trusted": true,
        "id": "2PjykYpNU_8h"
      },
      "execution_count": 7,
      "outputs": []
    },
    {
      "cell_type": "code",
      "source": [
        "from keras.preprocessing.text import Tokenizer\n",
        "from keras.preprocessing.sequence import pad_sequences\n",
        "\n",
        "MAX_NB_WORDS = 50000\n",
        "MAX_SEQUENCE_LENGTH = 250\n",
        "EMBEDDING_DIM = 100\n",
        "tokenizer = Tokenizer(num_words=MAX_NB_WORDS, filters='#$$%&()*+,-./:;<=>?@[\\]^_{|}~', lower=True)\n",
        "tokenizer.fit_on_texts(data['Article Content'].values)\n",
        "word_index = tokenizer.word_index\n",
        "print('Found %s unique tokens.' % len(word_index))\n",
        "\n",
        "X = tokenizer.texts_to_sequences(data['Article Content'].values)\n",
        "X = pad_sequences(X, maxlen=MAX_SEQUENCE_LENGTH)\n",
        "print('Shape of data tensor:', X.shape)"
      ],
      "metadata": {
        "execution": {
          "iopub.status.busy": "2022-03-13T15:43:19.641814Z",
          "iopub.execute_input": "2022-03-13T15:43:19.642332Z",
          "iopub.status.idle": "2022-03-13T15:43:25.043521Z",
          "shell.execute_reply.started": "2022-03-13T15:43:19.642295Z",
          "shell.execute_reply": "2022-03-13T15:43:25.042739Z"
        },
        "trusted": true,
        "colab": {
          "base_uri": "https://localhost:8080/"
        },
        "id": "FA4H6ogkU_8i",
        "outputId": "3515da86-74e1-45f8-caa4-191437329721"
      },
      "execution_count": 8,
      "outputs": [
        {
          "output_type": "stream",
          "name": "stdout",
          "text": [
            "Found 43383 unique tokens.\n",
            "Shape of data tensor: (2493, 250)\n"
          ]
        }
      ]
    },
    {
      "cell_type": "code",
      "source": [
        "Y = pd.get_dummies(data['Kategori']).values\n",
        "print('Shape of label tensor:', Y.shape)"
      ],
      "metadata": {
        "execution": {
          "iopub.status.busy": "2022-03-13T15:43:25.045101Z",
          "iopub.execute_input": "2022-03-13T15:43:25.045609Z",
          "iopub.status.idle": "2022-03-13T15:43:25.054391Z",
          "shell.execute_reply.started": "2022-03-13T15:43:25.045570Z",
          "shell.execute_reply": "2022-03-13T15:43:25.053674Z"
        },
        "trusted": true,
        "colab": {
          "base_uri": "https://localhost:8080/"
        },
        "id": "JPhiCxdGU_8j",
        "outputId": "cba3890c-2733-4484-e35d-df8f5bdb4bf3"
      },
      "execution_count": 9,
      "outputs": [
        {
          "output_type": "stream",
          "name": "stdout",
          "text": [
            "Shape of label tensor: (2493, 6)\n"
          ]
        }
      ]
    },
    {
      "cell_type": "code",
      "source": [
        "X_train,X_test, Y_train, Y_test = train_test_split(X,Y, test_size = 0.10, random_state = 42)\n",
        "print(X_train.shape,Y_train.shape)\n",
        "print(X_test.shape,Y_test.shape)"
      ],
      "metadata": {
        "execution": {
          "iopub.status.busy": "2022-03-13T15:43:25.055759Z",
          "iopub.execute_input": "2022-03-13T15:43:25.056024Z",
          "iopub.status.idle": "2022-03-13T15:43:25.070640Z",
          "shell.execute_reply.started": "2022-03-13T15:43:25.055988Z",
          "shell.execute_reply": "2022-03-13T15:43:25.069868Z"
        },
        "trusted": true,
        "colab": {
          "base_uri": "https://localhost:8080/"
        },
        "id": "5a7vL4wVU_8j",
        "outputId": "8c656099-c584-495d-aaf2-41c59af1b2a0"
      },
      "execution_count": 10,
      "outputs": [
        {
          "output_type": "stream",
          "name": "stdout",
          "text": [
            "(2243, 250) (2243, 6)\n",
            "(250, 250) (250, 6)\n"
          ]
        }
      ]
    },
    {
      "cell_type": "code",
      "source": [
        "from keras.models import Sequential\n",
        "from keras.layers import Embedding, SpatialDropout1D, LSTM, Dense\n",
        "\n",
        "model = Sequential()\n",
        "model.add(Embedding(MAX_NB_WORDS, EMBEDDING_DIM, input_length=X.shape[1]))\n",
        "model.add(SpatialDropout1D(0.2))\n",
        "model.add(LSTM(100, dropout=0.2, recurrent_dropout=0.2))\n",
        "model.add(Dense(6, activation='softmax'))\n",
        "model.compile(loss='categorical_crossentropy', optimizer='adam', metrics=['accuracy'])\n",
        "\n",
        "epochs = 20\n",
        "batch_size = 64\n",
        "\n",
        "model.fit(X_train, Y_train, epochs=epochs, batch_size=batch_size,validation_split=0.1)"
      ],
      "metadata": {
        "execution": {
          "iopub.status.busy": "2022-03-13T15:43:25.072031Z",
          "iopub.execute_input": "2022-03-13T15:43:25.072392Z",
          "iopub.status.idle": "2022-03-13T15:55:51.545239Z",
          "shell.execute_reply.started": "2022-03-13T15:43:25.072355Z",
          "shell.execute_reply": "2022-03-13T15:55:51.544525Z"
        },
        "trusted": true,
        "colab": {
          "base_uri": "https://localhost:8080/"
        },
        "id": "zNv4v5qdU_8l",
        "outputId": "472e021c-fcaf-410f-cb6d-ad6ff957fcf3"
      },
      "execution_count": 11,
      "outputs": [
        {
          "output_type": "stream",
          "name": "stdout",
          "text": [
            "Epoch 1/20\n",
            "32/32 [==============================] - 30s 817ms/step - loss: 1.6854 - accuracy: 0.3632 - val_loss: 1.4152 - val_accuracy: 0.3422\n",
            "Epoch 2/20\n",
            "32/32 [==============================] - 26s 815ms/step - loss: 1.1890 - accuracy: 0.4886 - val_loss: 1.2068 - val_accuracy: 0.4667\n",
            "Epoch 3/20\n",
            "32/32 [==============================] - 26s 802ms/step - loss: 0.8721 - accuracy: 0.6184 - val_loss: 1.0034 - val_accuracy: 0.6400\n",
            "Epoch 4/20\n",
            "32/32 [==============================] - 26s 822ms/step - loss: 0.7403 - accuracy: 0.7636 - val_loss: 1.0595 - val_accuracy: 0.6044\n",
            "Epoch 5/20\n",
            "32/32 [==============================] - 26s 829ms/step - loss: 0.6165 - accuracy: 0.8558 - val_loss: 0.8578 - val_accuracy: 0.7467\n",
            "Epoch 6/20\n",
            "32/32 [==============================] - 26s 826ms/step - loss: 0.8572 - accuracy: 0.7562 - val_loss: 1.6720 - val_accuracy: 0.3200\n",
            "Epoch 7/20\n",
            "32/32 [==============================] - 25s 793ms/step - loss: 0.7179 - accuracy: 0.7587 - val_loss: 0.9662 - val_accuracy: 0.6533\n",
            "Epoch 8/20\n",
            "32/32 [==============================] - 26s 820ms/step - loss: 0.3710 - accuracy: 0.9034 - val_loss: 0.8892 - val_accuracy: 0.6800\n",
            "Epoch 9/20\n",
            "32/32 [==============================] - 26s 799ms/step - loss: 0.2114 - accuracy: 0.9519 - val_loss: 0.7521 - val_accuracy: 0.7556\n",
            "Epoch 10/20\n",
            "32/32 [==============================] - 26s 805ms/step - loss: 0.1283 - accuracy: 0.9817 - val_loss: 0.8199 - val_accuracy: 0.7067\n",
            "Epoch 11/20\n",
            "32/32 [==============================] - 25s 791ms/step - loss: 0.0830 - accuracy: 0.9950 - val_loss: 0.8289 - val_accuracy: 0.7067\n",
            "Epoch 12/20\n",
            "32/32 [==============================] - 25s 789ms/step - loss: 0.0508 - accuracy: 0.9980 - val_loss: 0.8098 - val_accuracy: 0.7511\n",
            "Epoch 13/20\n",
            "32/32 [==============================] - 25s 785ms/step - loss: 0.0338 - accuracy: 0.9990 - val_loss: 0.8151 - val_accuracy: 0.7467\n",
            "Epoch 14/20\n",
            "32/32 [==============================] - 25s 782ms/step - loss: 0.0218 - accuracy: 1.0000 - val_loss: 0.8355 - val_accuracy: 0.7467\n",
            "Epoch 15/20\n",
            "32/32 [==============================] - 25s 785ms/step - loss: 0.0172 - accuracy: 0.9995 - val_loss: 0.8388 - val_accuracy: 0.7511\n",
            "Epoch 16/20\n",
            "32/32 [==============================] - 26s 800ms/step - loss: 0.0240 - accuracy: 0.9960 - val_loss: 0.9052 - val_accuracy: 0.7244\n",
            "Epoch 17/20\n",
            "32/32 [==============================] - 25s 787ms/step - loss: 0.0135 - accuracy: 0.9995 - val_loss: 0.8366 - val_accuracy: 0.7644\n",
            "Epoch 18/20\n",
            "32/32 [==============================] - 25s 781ms/step - loss: 0.0081 - accuracy: 1.0000 - val_loss: 0.8722 - val_accuracy: 0.7600\n",
            "Epoch 19/20\n",
            "32/32 [==============================] - 25s 786ms/step - loss: 0.0074 - accuracy: 1.0000 - val_loss: 0.8928 - val_accuracy: 0.7556\n",
            "Epoch 20/20\n",
            "32/32 [==============================] - 25s 787ms/step - loss: 0.0064 - accuracy: 0.9995 - val_loss: 0.8851 - val_accuracy: 0.7733\n"
          ]
        },
        {
          "output_type": "execute_result",
          "data": {
            "text/plain": [
              "<keras.callbacks.History at 0x7f60bc0b5510>"
            ]
          },
          "metadata": {},
          "execution_count": 11
        }
      ]
    },
    {
      "cell_type": "code",
      "source": [
        "y_pred = model.predict(X_test)\n",
        "y_pred.shape"
      ],
      "metadata": {
        "execution": {
          "iopub.status.busy": "2022-03-13T15:56:13.571555Z",
          "iopub.execute_input": "2022-03-13T15:56:13.571835Z",
          "iopub.status.idle": "2022-03-13T15:56:14.072797Z",
          "shell.execute_reply.started": "2022-03-13T15:56:13.571805Z",
          "shell.execute_reply": "2022-03-13T15:56:14.072036Z"
        },
        "trusted": true,
        "colab": {
          "base_uri": "https://localhost:8080/"
        },
        "id": "qvZNieG5U_8m",
        "outputId": "f2c1070e-d97f-47e4-e6b4-69f4557541a6"
      },
      "execution_count": 12,
      "outputs": [
        {
          "output_type": "execute_result",
          "data": {
            "text/plain": [
              "(250, 6)"
            ]
          },
          "metadata": {},
          "execution_count": 12
        }
      ]
    }
  ]
}